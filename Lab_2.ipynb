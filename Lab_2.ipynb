{
  "nbformat": 4,
  "nbformat_minor": 0,
  "metadata": {
    "colab": {
      "provenance": []
    },
    "kernelspec": {
      "name": "python3",
      "display_name": "Python 3"
    },
    "language_info": {
      "name": "python"
    }
  },
  "cells": [
    {
      "cell_type": "markdown",
      "source": [
        "# **EXP 02: Introduction to WordNet**"
      ],
      "metadata": {
        "id": "CS6GH_nqfKnm"
      }
    },
    {
      "cell_type": "markdown",
      "source": [
        "## **WordNet**"
      ],
      "metadata": {
        "id": "7ZEsKlqlp6lH"
      }
    },
    {
      "cell_type": "code",
      "execution_count": 1,
      "metadata": {
        "colab": {
          "base_uri": "https://localhost:8080/"
        },
        "id": "wZ7o4ExwebJh",
        "outputId": "44afb9cc-1b5d-4a26-a3ef-c42ae191bab1"
      },
      "outputs": [
        {
          "output_type": "stream",
          "name": "stderr",
          "text": [
            "[nltk_data] Downloading package wordnet to /root/nltk_data...\n"
          ]
        }
      ],
      "source": [
        "import nltk\n",
        "nltk.download('wordnet')\n",
        "from nltk.corpus import wordnet as wn"
      ]
    },
    {
      "cell_type": "markdown",
      "source": [
        "## **Synsets and Lemmas**"
      ],
      "metadata": {
        "id": "7gEOFtiWqaHD"
      }
    },
    {
      "cell_type": "markdown",
      "source": [
        "### **Getting Synsets:**"
      ],
      "metadata": {
        "id": "qnKoexFgqd2C"
      }
    },
    {
      "cell_type": "code",
      "source": [
        "syn = wn.synsets('room')\n",
        "print(syn)"
      ],
      "metadata": {
        "colab": {
          "base_uri": "https://localhost:8080/"
        },
        "id": "XuI2zIgvqibQ",
        "outputId": "fff93913-e673-4784-ce33-91a28d93493f"
      },
      "execution_count": 2,
      "outputs": [
        {
          "output_type": "stream",
          "name": "stdout",
          "text": [
            "[Synset('room.n.01'), Synset('room.n.02'), Synset('room.n.03'), Synset('room.n.04'), Synset('board.v.02')]\n"
          ]
        }
      ]
    },
    {
      "cell_type": "markdown",
      "source": [
        "### **Getting definition of a Synset**"
      ],
      "metadata": {
        "id": "btXI0h1jqr2z"
      }
    },
    {
      "cell_type": "code",
      "source": [
        "syn_arr = wn.synsets('room')\n",
        "syn_arr[0].definition()"
      ],
      "metadata": {
        "colab": {
          "base_uri": "https://localhost:8080/",
          "height": 36
        },
        "id": "X4MDloTjquFJ",
        "outputId": "33fdb52d-4723-4c32-b617-a7fd1dacecc7"
      },
      "execution_count": 5,
      "outputs": [
        {
          "output_type": "execute_result",
          "data": {
            "text/plain": [
              "'an area within a building enclosed by walls and floor and ceiling'"
            ],
            "application/vnd.google.colaboratory.intrinsic+json": {
              "type": "string"
            }
          },
          "metadata": {},
          "execution_count": 5
        }
      ]
    },
    {
      "cell_type": "code",
      "source": [
        "# Another method\n",
        "wn.synset('room.n.01').definition()"
      ],
      "metadata": {
        "colab": {
          "base_uri": "https://localhost:8080/",
          "height": 36
        },
        "id": "Rp4nVbj1rE-a",
        "outputId": "cc584ecd-0ec9-46ab-f030-60fde0d3c4f8"
      },
      "execution_count": 6,
      "outputs": [
        {
          "output_type": "execute_result",
          "data": {
            "text/plain": [
              "'an area within a building enclosed by walls and floor and ceiling'"
            ],
            "application/vnd.google.colaboratory.intrinsic+json": {
              "type": "string"
            }
          },
          "metadata": {},
          "execution_count": 6
        }
      ]
    },
    {
      "cell_type": "markdown",
      "source": [
        "### **Getting all Lemmas of a Synset**"
      ],
      "metadata": {
        "id": "MiZuYYKhrRHs"
      }
    },
    {
      "cell_type": "code",
      "source": [
        "print(syn_arr[1].lemma_names())"
      ],
      "metadata": {
        "colab": {
          "base_uri": "https://localhost:8080/"
        },
        "id": "5TGjDhqrrEUV",
        "outputId": "6aabe666-edad-41e9-e608-645ce8780ff0"
      },
      "execution_count": 7,
      "outputs": [
        {
          "output_type": "stream",
          "name": "stdout",
          "text": [
            "['room', 'way', 'elbow_room']\n"
          ]
        }
      ]
    },
    {
      "cell_type": "code",
      "source": [
        "# Another method\n",
        "print(wn.synset('room.n.02').lemma_names())"
      ],
      "metadata": {
        "colab": {
          "base_uri": "https://localhost:8080/"
        },
        "id": "28NA2oOgqzTS",
        "outputId": "006f7fe1-70df-432e-9c88-63ece00afab6"
      },
      "execution_count": 8,
      "outputs": [
        {
          "output_type": "stream",
          "name": "stdout",
          "text": [
            "['room', 'way', 'elbow_room']\n"
          ]
        }
      ]
    },
    {
      "cell_type": "markdown",
      "source": [
        "## **Hyponyms**"
      ],
      "metadata": {
        "id": "ZnU3uR1Erdxb"
      }
    },
    {
      "cell_type": "code",
      "source": [
        "print(wn.synset('calendar.n.01').hyponyms())"
      ],
      "metadata": {
        "colab": {
          "base_uri": "https://localhost:8080/"
        },
        "id": "A-QwzrgiriWQ",
        "outputId": "3abf62ed-71af-491d-8011-fe27a7a38da2"
      },
      "execution_count": 9,
      "outputs": [
        {
          "output_type": "stream",
          "name": "stdout",
          "text": [
            "[Synset('lunisolar_calendar.n.01'), Synset('lunar_calendar.n.01'), Synset('solar_calendar.n.01')]\n"
          ]
        }
      ]
    },
    {
      "cell_type": "markdown",
      "source": [
        "## **Hypernyms**"
      ],
      "metadata": {
        "id": "DyAcGAZ6rlgX"
      }
    },
    {
      "cell_type": "code",
      "source": [
        "print(wn.synset('solar_calendar.n.01').hypernyms())"
      ],
      "metadata": {
        "colab": {
          "base_uri": "https://localhost:8080/"
        },
        "id": "97Go1a9vrnh2",
        "outputId": "7d9735f9-19c8-406c-eb4e-1a7e2c275670"
      },
      "execution_count": 10,
      "outputs": [
        {
          "output_type": "stream",
          "name": "stdout",
          "text": [
            "[Synset('calendar.n.01')]\n"
          ]
        }
      ]
    },
    {
      "cell_type": "markdown",
      "source": [
        "# **EXP 03: Parts-of-Speech of Tagging**"
      ],
      "metadata": {
        "id": "om27JqZRsIiE"
      }
    },
    {
      "cell_type": "markdown",
      "source": [
        "## **Using a Tagger**"
      ],
      "metadata": {
        "id": "ufWqhCSNtAKf"
      }
    },
    {
      "cell_type": "code",
      "source": [
        "import nltk\n",
        "nltk.download('pnkt_tab')\n",
        "nltk.download('averaged_perceptron_tagger_eng')\n",
        "text = nltk.word_tokenize(\"And now for something completely different\")\n",
        "nltk.pos_tag(text)"
      ],
      "metadata": {
        "colab": {
          "base_uri": "https://localhost:8080/"
        },
        "id": "R-7MJYEQsJPz",
        "outputId": "36e4dd4e-fab3-4965-a218-4059a1cf1764"
      },
      "execution_count": 21,
      "outputs": [
        {
          "output_type": "stream",
          "name": "stderr",
          "text": [
            "[nltk_data] Downloading package punkt to /root/nltk_data...\n",
            "[nltk_data]   Package punkt is already up-to-date!\n",
            "[nltk_data] Downloading package averaged_perceptron_tagger to\n",
            "[nltk_data]     /root/nltk_data...\n",
            "[nltk_data]   Package averaged_perceptron_tagger is already up-to-\n",
            "[nltk_data]       date!\n"
          ]
        },
        {
          "output_type": "execute_result",
          "data": {
            "text/plain": [
              "[('And', 'CC'),\n",
              " ('now', 'RB'),\n",
              " ('for', 'IN'),\n",
              " ('something', 'NN'),\n",
              " ('completely', 'RB'),\n",
              " ('different', 'JJ')]"
            ]
          },
          "metadata": {},
          "execution_count": 21
        }
      ]
    },
    {
      "cell_type": "code",
      "source": [
        "text = nltk.word_tokenize(\"They refuse to permit us to obtain the refuse permit\")\n",
        "nltk.pos_tag(text)"
      ],
      "metadata": {
        "colab": {
          "base_uri": "https://localhost:8080/"
        },
        "id": "muAV3JX0tkMZ",
        "outputId": "9c2d9c01-80de-4327-92ee-60f075f30656"
      },
      "execution_count": 23,
      "outputs": [
        {
          "output_type": "execute_result",
          "data": {
            "text/plain": [
              "[('They', 'PRP'),\n",
              " ('refuse', 'VBP'),\n",
              " ('to', 'TO'),\n",
              " ('permit', 'VB'),\n",
              " ('us', 'PRP'),\n",
              " ('to', 'TO'),\n",
              " ('obtain', 'VB'),\n",
              " ('the', 'DT'),\n",
              " ('refuse', 'NN'),\n",
              " ('permit', 'NN')]"
            ]
          },
          "metadata": {},
          "execution_count": 23
        }
      ]
    },
    {
      "cell_type": "markdown",
      "source": [
        "## **Tagged Corpora**"
      ],
      "metadata": {
        "id": "Z5PO_ZxBtUHw"
      }
    },
    {
      "cell_type": "markdown",
      "source": [
        "### **Representing Tagged Tokens:**"
      ],
      "metadata": {
        "id": "d73SLpSOuIcC"
      }
    },
    {
      "cell_type": "code",
      "source": [
        "tagged_token = nltk.tag.str2tuple('fly/NN')\n",
        "tagged_token"
      ],
      "metadata": {
        "colab": {
          "base_uri": "https://localhost:8080/"
        },
        "id": "nsoUTzpCuBuH",
        "outputId": "d76ced50-e544-43ec-f686-e5109bfa97a1"
      },
      "execution_count": 24,
      "outputs": [
        {
          "output_type": "execute_result",
          "data": {
            "text/plain": [
              "('fly', 'NN')"
            ]
          },
          "metadata": {},
          "execution_count": 24
        }
      ]
    },
    {
      "cell_type": "code",
      "source": [
        "tagged_token[0]"
      ],
      "metadata": {
        "colab": {
          "base_uri": "https://localhost:8080/",
          "height": 36
        },
        "id": "CS5ApJ29uwcm",
        "outputId": "47b27061-6050-45fa-faa9-70496495d7fb"
      },
      "execution_count": 25,
      "outputs": [
        {
          "output_type": "execute_result",
          "data": {
            "text/plain": [
              "'fly'"
            ],
            "application/vnd.google.colaboratory.intrinsic+json": {
              "type": "string"
            }
          },
          "metadata": {},
          "execution_count": 25
        }
      ]
    },
    {
      "cell_type": "code",
      "source": [
        "tagged_token[1]"
      ],
      "metadata": {
        "colab": {
          "base_uri": "https://localhost:8080/",
          "height": 36
        },
        "id": "Gj11IBx3uz0T",
        "outputId": "c474d979-4e8e-4a85-83bf-10b98f59df21"
      },
      "execution_count": 26,
      "outputs": [
        {
          "output_type": "execute_result",
          "data": {
            "text/plain": [
              "'NN'"
            ],
            "application/vnd.google.colaboratory.intrinsic+json": {
              "type": "string"
            }
          },
          "metadata": {},
          "execution_count": 26
        }
      ]
    },
    {
      "cell_type": "markdown",
      "source": [
        "### **Reading Tagged Corpora**"
      ],
      "metadata": {
        "id": "pzGtxYeNu2Yq"
      }
    },
    {
      "cell_type": "code",
      "source": [
        "nltk.download('brown')\n",
        "nltk.corpus.brown.tagged_words()"
      ],
      "metadata": {
        "colab": {
          "base_uri": "https://localhost:8080/"
        },
        "id": "9vczqaNbu6wk",
        "outputId": "2d6531bd-a3fd-46f9-88eb-ab31292fc5b9"
      },
      "execution_count": 27,
      "outputs": [
        {
          "output_type": "stream",
          "name": "stderr",
          "text": [
            "[nltk_data] Downloading package brown to /root/nltk_data...\n",
            "[nltk_data]   Unzipping corpora/brown.zip.\n"
          ]
        },
        {
          "output_type": "execute_result",
          "data": {
            "text/plain": [
              "[('The', 'AT'), ('Fulton', 'NP-TL'), ...]"
            ]
          },
          "metadata": {},
          "execution_count": 27
        }
      ]
    },
    {
      "cell_type": "code",
      "source": [
        "nltk.download('universal_tagset')\n",
        "nltk.corpus.brown.tagged_words(tagset = 'universal')"
      ],
      "metadata": {
        "colab": {
          "base_uri": "https://localhost:8080/"
        },
        "id": "B55VYl_WvFJk",
        "outputId": "f055f952-f876-43e7-8059-5e7be338f75d"
      },
      "execution_count": 28,
      "outputs": [
        {
          "output_type": "stream",
          "name": "stderr",
          "text": [
            "[nltk_data] Downloading package universal_tagset to /root/nltk_data...\n",
            "[nltk_data]   Unzipping taggers/universal_tagset.zip.\n"
          ]
        },
        {
          "output_type": "execute_result",
          "data": {
            "text/plain": [
              "[('The', 'DET'), ('Fulton', 'NOUN'), ...]"
            ]
          },
          "metadata": {},
          "execution_count": 28
        }
      ]
    },
    {
      "cell_type": "markdown",
      "source": [
        "### **For another treebank corpus**"
      ],
      "metadata": {
        "id": "_OruRZ5vvzsg"
      }
    },
    {
      "cell_type": "code",
      "source": [
        "nltk.download('treebank')\n",
        "nltk.corpus.treebank.tagged_words(tagset = 'universal')"
      ],
      "metadata": {
        "colab": {
          "base_uri": "https://localhost:8080/"
        },
        "id": "b0F_TNa6v7YK",
        "outputId": "ffe42630-b616-4f12-d657-509cb1ec08f4"
      },
      "execution_count": 29,
      "outputs": [
        {
          "output_type": "stream",
          "name": "stderr",
          "text": [
            "[nltk_data] Downloading package treebank to /root/nltk_data...\n",
            "[nltk_data]   Unzipping corpora/treebank.zip.\n"
          ]
        },
        {
          "output_type": "execute_result",
          "data": {
            "text/plain": [
              "[('Pierre', 'NOUN'), ('Vinken', 'NOUN'), (',', '.'), ...]"
            ]
          },
          "metadata": {},
          "execution_count": 29
        }
      ]
    },
    {
      "cell_type": "markdown",
      "source": [
        "###**For Indian Languages:**"
      ],
      "metadata": {
        "id": "JR91cmWMwF1e"
      }
    },
    {
      "cell_type": "code",
      "source": [
        "nltk.download('indian')\n",
        "nltk.corpus.indian.tagged_words()"
      ],
      "metadata": {
        "colab": {
          "base_uri": "https://localhost:8080/"
        },
        "id": "wZcDbZTowJoX",
        "outputId": "2c23f242-61eb-4195-bbe1-98a318b0cd4f"
      },
      "execution_count": 30,
      "outputs": [
        {
          "output_type": "stream",
          "name": "stderr",
          "text": [
            "[nltk_data] Downloading package indian to /root/nltk_data...\n",
            "[nltk_data]   Unzipping corpora/indian.zip.\n"
          ]
        },
        {
          "output_type": "execute_result",
          "data": {
            "text/plain": [
              "[('মহিষের', 'NN'), ('সন্তান', 'NN'), (':', 'SYM'), ...]"
            ]
          },
          "metadata": {},
          "execution_count": 30
        }
      ]
    },
    {
      "cell_type": "code",
      "source": [
        "# pos tagger for Hindi corpus\n",
        "nltk.corpus.indian.tagged_words('hindi.pos')"
      ],
      "metadata": {
        "colab": {
          "base_uri": "https://localhost:8080/"
        },
        "id": "Q-pYGzepwSY9",
        "outputId": "9f5b3c54-b16d-46d5-c4de-f306e31c0bd0"
      },
      "execution_count": 31,
      "outputs": [
        {
          "output_type": "execute_result",
          "data": {
            "text/plain": [
              "[('पूर्ण', 'JJ'), ('प्रतिबंध', 'NN'), ('हटाओ', 'VFM'), ...]"
            ]
          },
          "metadata": {},
          "execution_count": 31
        }
      ]
    },
    {
      "cell_type": "code",
      "source": [
        "# pos tagger for Marathi corpus\n",
        "nltk.corpus.indian.tagged_words('marathi.pos')"
      ],
      "metadata": {
        "colab": {
          "base_uri": "https://localhost:8080/"
        },
        "id": "1RJSYh6NwXN_",
        "outputId": "355db328-a8b6-4016-becd-67b31db40fa1"
      },
      "execution_count": 32,
      "outputs": [
        {
          "output_type": "execute_result",
          "data": {
            "text/plain": [
              "[(\"''\", 'SYM'), ('सनातनवाद्यांनी', 'NN'), ('व', 'CC'), ...]"
            ]
          },
          "metadata": {},
          "execution_count": 32
        }
      ]
    },
    {
      "cell_type": "markdown",
      "source": [
        "###**To find tags that are most common in the news category of the Brown Corpus:**"
      ],
      "metadata": {
        "id": "W32EvSRZwk3j"
      }
    },
    {
      "cell_type": "code",
      "source": [
        "from nltk.corpus import brown\n",
        "brown_news_tagged = brown.tagged_words(categories = 'news', tagset = 'universal')\n",
        "tag_fd = nltk.FreqDist(tag for (word, tag) in brown_news_tagged)\n",
        "tag_fd"
      ],
      "metadata": {
        "colab": {
          "base_uri": "https://localhost:8080/"
        },
        "id": "Jw4aP0-ixIh-",
        "outputId": "457adbe6-dea0-41e7-a0e8-3f5d6ceca51c"
      },
      "execution_count": 33,
      "outputs": [
        {
          "output_type": "execute_result",
          "data": {
            "text/plain": [
              "FreqDist({'NOUN': 30654, 'VERB': 14399, 'ADP': 12355, '.': 11928, 'DET': 11389, 'ADJ': 6706, 'ADV': 3349, 'CONJ': 2717, 'PRON': 2535, 'PRT': 2264, ...})"
            ]
          },
          "metadata": {},
          "execution_count": 33
        }
      ]
    },
    {
      "cell_type": "markdown",
      "source": [
        "## **Automatic Tagging**"
      ],
      "metadata": {
        "id": "dAb7LLHKxjrW"
      }
    },
    {
      "cell_type": "code",
      "source": [
        "nltk.download('brown')\n",
        "from nltk.corpus import brown\n",
        "brown_tagged_sents = brown.tagged_sents(categories = 'news')\n",
        "print(brown_tagged_sents)"
      ],
      "metadata": {
        "colab": {
          "base_uri": "https://localhost:8080/"
        },
        "id": "3ZD4UE7mxniX",
        "outputId": "22896e09-83d0-40e9-9157-7d9fde47da0d"
      },
      "execution_count": 43,
      "outputs": [
        {
          "output_type": "stream",
          "name": "stdout",
          "text": [
            "[[('The', 'AT'), ('Fulton', 'NP-TL'), ('County', 'NN-TL'), ('Grand', 'JJ-TL'), ('Jury', 'NN-TL'), ('said', 'VBD'), ('Friday', 'NR'), ('an', 'AT'), ('investigation', 'NN'), ('of', 'IN'), (\"Atlanta's\", 'NP$'), ('recent', 'JJ'), ('primary', 'NN'), ('election', 'NN'), ('produced', 'VBD'), ('``', '``'), ('no', 'AT'), ('evidence', 'NN'), (\"''\", \"''\"), ('that', 'CS'), ('any', 'DTI'), ('irregularities', 'NNS'), ('took', 'VBD'), ('place', 'NN'), ('.', '.')], [('The', 'AT'), ('jury', 'NN'), ('further', 'RBR'), ('said', 'VBD'), ('in', 'IN'), ('term-end', 'NN'), ('presentments', 'NNS'), ('that', 'CS'), ('the', 'AT'), ('City', 'NN-TL'), ('Executive', 'JJ-TL'), ('Committee', 'NN-TL'), (',', ','), ('which', 'WDT'), ('had', 'HVD'), ('over-all', 'JJ'), ('charge', 'NN'), ('of', 'IN'), ('the', 'AT'), ('election', 'NN'), (',', ','), ('``', '``'), ('deserves', 'VBZ'), ('the', 'AT'), ('praise', 'NN'), ('and', 'CC'), ('thanks', 'NNS'), ('of', 'IN'), ('the', 'AT'), ('City', 'NN-TL'), ('of', 'IN-TL'), ('Atlanta', 'NP-TL'), (\"''\", \"''\"), ('for', 'IN'), ('the', 'AT'), ('manner', 'NN'), ('in', 'IN'), ('which', 'WDT'), ('the', 'AT'), ('election', 'NN'), ('was', 'BEDZ'), ('conducted', 'VBN'), ('.', '.')], ...]\n"
          ]
        },
        {
          "output_type": "stream",
          "name": "stderr",
          "text": [
            "[nltk_data] Downloading package brown to /root/nltk_data...\n",
            "[nltk_data]   Package brown is already up-to-date!\n"
          ]
        }
      ]
    },
    {
      "cell_type": "code",
      "source": [
        "# For simple sentences of brown corpus\n",
        "brown_sents = brown.sents(categories = 'news')\n",
        "print(brown_sents)"
      ],
      "metadata": {
        "colab": {
          "base_uri": "https://localhost:8080/"
        },
        "id": "kqGjM_Hgx89A",
        "outputId": "fc9ce39b-d37e-47a5-bfb8-dc47b7786725"
      },
      "execution_count": 44,
      "outputs": [
        {
          "output_type": "stream",
          "name": "stdout",
          "text": [
            "[['The', 'Fulton', 'County', 'Grand', 'Jury', 'said', 'Friday', 'an', 'investigation', 'of', \"Atlanta's\", 'recent', 'primary', 'election', 'produced', '``', 'no', 'evidence', \"''\", 'that', 'any', 'irregularities', 'took', 'place', '.'], ['The', 'jury', 'further', 'said', 'in', 'term-end', 'presentments', 'that', 'the', 'City', 'Executive', 'Committee', ',', 'which', 'had', 'over-all', 'charge', 'of', 'the', 'election', ',', '``', 'deserves', 'the', 'praise', 'and', 'thanks', 'of', 'the', 'City', 'of', 'Atlanta', \"''\", 'for', 'the', 'manner', 'in', 'which', 'the', 'election', 'was', 'conducted', '.'], ...]\n"
          ]
        }
      ]
    },
    {
      "cell_type": "markdown",
      "source": [
        "## **The Default Tagger**"
      ],
      "metadata": {
        "id": "-KHKbbJex_bh"
      }
    },
    {
      "cell_type": "code",
      "source": [
        "tags = [tag for (word, tag) in brown.tagged_words(categories = 'news')]\n",
        "nltk.FreqDist(tags).max()"
      ],
      "metadata": {
        "colab": {
          "base_uri": "https://localhost:8080/",
          "height": 36
        },
        "id": "R1eJZJQpyCtH",
        "outputId": "9bd4436c-07d8-471f-8ae7-166b677613f5"
      },
      "execution_count": 41,
      "outputs": [
        {
          "output_type": "execute_result",
          "data": {
            "text/plain": [
              "'NN'"
            ],
            "application/vnd.google.colaboratory.intrinsic+json": {
              "type": "string"
            }
          },
          "metadata": {},
          "execution_count": 41
        }
      ]
    },
    {
      "cell_type": "markdown",
      "source": [
        "## **Tagger that tags everything as NN**"
      ],
      "metadata": {
        "id": "8_DOlACvyO45"
      }
    },
    {
      "cell_type": "code",
      "source": [
        "nltk.download('punktr')\n",
        "raw = 'I do not like green eggs and ham, I do not like them Sam I am!'\n",
        "tokens = nltk.word_tokenize(raw)\n",
        "default_tagger = nltk.DefaultTagger('NN')\n",
        "default_tagger.tag(tokens)"
      ],
      "metadata": {
        "colab": {
          "base_uri": "https://localhost:8080/"
        },
        "id": "j3tPs5Z3zEVO",
        "outputId": "eb5b98e7-7b60-4d40-ea58-16efb10c361f"
      },
      "execution_count": 45,
      "outputs": [
        {
          "output_type": "stream",
          "name": "stderr",
          "text": [
            "[nltk_data] Error loading punktr: Package 'punktr' not found in index\n"
          ]
        },
        {
          "output_type": "execute_result",
          "data": {
            "text/plain": [
              "[('I', 'NN'),\n",
              " ('do', 'NN'),\n",
              " ('not', 'NN'),\n",
              " ('like', 'NN'),\n",
              " ('green', 'NN'),\n",
              " ('eggs', 'NN'),\n",
              " ('and', 'NN'),\n",
              " ('ham', 'NN'),\n",
              " (',', 'NN'),\n",
              " ('I', 'NN'),\n",
              " ('do', 'NN'),\n",
              " ('not', 'NN'),\n",
              " ('like', 'NN'),\n",
              " ('them', 'NN'),\n",
              " ('Sam', 'NN'),\n",
              " ('I', 'NN'),\n",
              " ('am', 'NN'),\n",
              " ('!', 'NN')]"
            ]
          },
          "metadata": {},
          "execution_count": 45
        }
      ]
    },
    {
      "cell_type": "code",
      "source": [
        "# This method performs rather poorly\n",
        "default_tagger.accuracy(brown_tagged_sents)"
      ],
      "metadata": {
        "colab": {
          "base_uri": "https://localhost:8080/"
        },
        "id": "s_DyTCzkzPxR",
        "outputId": "d0d0ea0d-75b4-4586-c790-148d6f7847d8"
      },
      "execution_count": 46,
      "outputs": [
        {
          "output_type": "execute_result",
          "data": {
            "text/plain": [
              "0.13089484257215028"
            ]
          },
          "metadata": {},
          "execution_count": 46
        }
      ]
    },
    {
      "cell_type": "markdown",
      "source": [
        "## **The Regular Expression Tagger**"
      ],
      "metadata": {
        "id": "U4CR-w3azW7G"
      }
    },
    {
      "cell_type": "code",
      "source": [
        "pattern = [\n",
        "    (r'.*ing$', 'VBG'),\n",
        "    (r'.*ed$', 'VBD'),\n",
        "    (r'.*es$', 'VBZ'),\n",
        "    (r'.*ould$', 'MD'),\n",
        "    (r'.*\\'s$', 'NN$'),\n",
        "    (r'.*s$', 'NNS'),\n",
        "    (r'^-?[0-9]+(.[0-9]+)?$', 'CD'),\n",
        "    (r'.*', 'NN')\n",
        "]\n",
        "\n",
        "regexp_tagger = nltk.RegexpTagger(pattern)\n",
        "regexp_tagger.tag(brown_sents[3])"
      ],
      "metadata": {
        "colab": {
          "base_uri": "https://localhost:8080/"
        },
        "id": "wIxsFWc1zkJA",
        "outputId": "e4e99a93-9eb9-4a8e-8b78-6888aba120c1"
      },
      "execution_count": 47,
      "outputs": [
        {
          "output_type": "execute_result",
          "data": {
            "text/plain": [
              "[('``', 'NN'),\n",
              " ('Only', 'NN'),\n",
              " ('a', 'NN'),\n",
              " ('relative', 'NN'),\n",
              " ('handful', 'NN'),\n",
              " ('of', 'NN'),\n",
              " ('such', 'NN'),\n",
              " ('reports', 'NNS'),\n",
              " ('was', 'NNS'),\n",
              " ('received', 'VBD'),\n",
              " (\"''\", 'NN'),\n",
              " (',', 'NN'),\n",
              " ('the', 'NN'),\n",
              " ('jury', 'NN'),\n",
              " ('said', 'NN'),\n",
              " (',', 'NN'),\n",
              " ('``', 'NN'),\n",
              " ('considering', 'VBG'),\n",
              " ('the', 'NN'),\n",
              " ('widespread', 'NN'),\n",
              " ('interest', 'NN'),\n",
              " ('in', 'NN'),\n",
              " ('the', 'NN'),\n",
              " ('election', 'NN'),\n",
              " (',', 'NN'),\n",
              " ('the', 'NN'),\n",
              " ('number', 'NN'),\n",
              " ('of', 'NN'),\n",
              " ('voters', 'NNS'),\n",
              " ('and', 'NN'),\n",
              " ('the', 'NN'),\n",
              " ('size', 'NN'),\n",
              " ('of', 'NN'),\n",
              " ('this', 'NNS'),\n",
              " ('city', 'NN'),\n",
              " (\"''\", 'NN'),\n",
              " ('.', 'NN')]"
            ]
          },
          "metadata": {},
          "execution_count": 47
        }
      ]
    },
    {
      "cell_type": "code",
      "source": [
        "regexp_tagger.accuracy(brown_tagged_sents)"
      ],
      "metadata": {
        "colab": {
          "base_uri": "https://localhost:8080/"
        },
        "id": "XQH34kfaz8vz",
        "outputId": "117c6e8b-615a-4b5f-ca25-4e80ed3a7135"
      },
      "execution_count": 48,
      "outputs": [
        {
          "output_type": "execute_result",
          "data": {
            "text/plain": [
              "0.20326391789486245"
            ]
          },
          "metadata": {},
          "execution_count": 48
        }
      ]
    },
    {
      "cell_type": "markdown",
      "source": [
        "##**N-Gram Tagging**"
      ],
      "metadata": {
        "id": "uOqqUNCG0dH3"
      }
    },
    {
      "cell_type": "code",
      "source": [
        "import nltk\n",
        "nltk.download('brown')\n",
        "from nltk.corpus import brown\n",
        "brown_tagged_sents = brown.tagged_sents(categories='news')\n",
        "brown_sents = brown.sents(categories='news')\n",
        "unigram_tagger = nltk.UnigramTagger(brown_tagged_sents)\n",
        "unigram_tagger.tag(brown_sents[2007])"
      ],
      "metadata": {
        "colab": {
          "base_uri": "https://localhost:8080/"
        },
        "id": "2BHxHir30oiA",
        "outputId": "e62099f4-01b4-482a-9563-1aa092f5781d"
      },
      "execution_count": 50,
      "outputs": [
        {
          "output_type": "stream",
          "name": "stderr",
          "text": [
            "[nltk_data] Downloading package brown to /root/nltk_data...\n",
            "[nltk_data]   Package brown is already up-to-date!\n"
          ]
        },
        {
          "output_type": "execute_result",
          "data": {
            "text/plain": [
              "[('Various', 'JJ'),\n",
              " ('of', 'IN'),\n",
              " ('the', 'AT'),\n",
              " ('apartments', 'NNS'),\n",
              " ('are', 'BER'),\n",
              " ('of', 'IN'),\n",
              " ('the', 'AT'),\n",
              " ('terrace', 'NN'),\n",
              " ('type', 'NN'),\n",
              " (',', ','),\n",
              " ('being', 'BEG'),\n",
              " ('on', 'IN'),\n",
              " ('the', 'AT'),\n",
              " ('ground', 'NN'),\n",
              " ('floor', 'NN'),\n",
              " ('so', 'QL'),\n",
              " ('that', 'CS'),\n",
              " ('entrance', 'NN'),\n",
              " ('is', 'BEZ'),\n",
              " ('direct', 'JJ'),\n",
              " ('.', '.')]"
            ]
          },
          "metadata": {},
          "execution_count": 50
        }
      ]
    },
    {
      "cell_type": "code",
      "source": [
        "unigram_tagger.accuracy(brown_tagged_sents)"
      ],
      "metadata": {
        "colab": {
          "base_uri": "https://localhost:8080/"
        },
        "id": "IsYhno021NXa",
        "outputId": "13528853-4146-4e40-8315-0cd5860e1273"
      },
      "execution_count": 51,
      "outputs": [
        {
          "output_type": "execute_result",
          "data": {
            "text/plain": [
              "0.9349006503968017"
            ]
          },
          "metadata": {},
          "execution_count": 51
        }
      ]
    },
    {
      "cell_type": "markdown",
      "source": [
        "## **Separating the Training and Testing data**"
      ],
      "metadata": {
        "id": "xs01bp2I1hB3"
      }
    },
    {
      "cell_type": "code",
      "source": [
        "size = int(len(brown_tagged_sents) * 0.9)\n",
        "size"
      ],
      "metadata": {
        "colab": {
          "base_uri": "https://localhost:8080/"
        },
        "id": "YInsSarq1oqI",
        "outputId": "407c8f18-fa4b-42fd-b4ec-cd63bb515ab1"
      },
      "execution_count": 52,
      "outputs": [
        {
          "output_type": "execute_result",
          "data": {
            "text/plain": [
              "4160"
            ]
          },
          "metadata": {},
          "execution_count": 52
        }
      ]
    },
    {
      "cell_type": "code",
      "source": [
        "train_sents = brown_tagged_sents[:size]\n",
        "test_sents = brown_tagged_sents[size:]\n",
        "unigram_tagger = nltk.UnigramTagger(train_sents)\n",
        "unigram_tagger.accuracy(test_sents)"
      ],
      "metadata": {
        "colab": {
          "base_uri": "https://localhost:8080/"
        },
        "id": "cUY002Fl1shv",
        "outputId": "9136531f-ab76-4dbf-fc55-1c13a13b2b53"
      },
      "execution_count": 53,
      "outputs": [
        {
          "output_type": "execute_result",
          "data": {
            "text/plain": [
              "0.8121200039868434"
            ]
          },
          "metadata": {},
          "execution_count": 53
        }
      ]
    }
  ]
}